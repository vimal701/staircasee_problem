{
 "cells": [
  {
   "cell_type": "markdown",
   "metadata": {},
   "source": [
    "# Given task-"
   ]
  },
  {
   "cell_type": "markdown",
   "metadata": {},
   "source": [
    "Johan going to the church and there are n stairs to reach to Prayer hall.\n",
    "Johan can move either 1 step, 2 step or 3 steps at a time.\n",
    "Implement a method to count how many possible ways Johan can run up the stairs."
   ]
  },
  {
   "cell_type": "code",
   "execution_count": 1,
   "metadata": {},
   "outputs": [
    {
     "name": "stdout",
     "output_type": "stream",
     "text": [
      "Enter the number of stairs 6\n"
     ]
    }
   ],
   "source": [
    "num=int(input(\"Enter the number of stairs \"))"
   ]
  },
  {
   "cell_type": "markdown",
   "metadata": {},
   "source": [
    "Defining a function which takes the input number of stairs and return the total ways in which Johan can reach"
   ]
  },
  {
   "cell_type": "code",
   "execution_count": 2,
   "metadata": {},
   "outputs": [
    {
     "name": "stdout",
     "output_type": "stream",
     "text": [
      "The total number of ways are  24\n"
     ]
    }
   ],
   "source": [
    "def Number_of_ways(num) :\n",
    "    if (num == 1 or num == 0) :\n",
    "        return 1\n",
    "    elif (num == 2) :\n",
    "        return 2  \n",
    "    else :\n",
    "        return Number_of_ways(num - 3) + Number_of_ways(num - 2) + Number_of_ways(num - 1)\n",
    "\n",
    "print(\"The total number of ways are \",Number_of_ways(num))"
   ]
  },
  {
   "cell_type": "code",
   "execution_count": null,
   "metadata": {},
   "outputs": [],
   "source": []
  }
 ],
 "metadata": {
  "kernelspec": {
   "display_name": "Python 3",
   "language": "python",
   "name": "python3"
  },
  "language_info": {
   "codemirror_mode": {
    "name": "ipython",
    "version": 3
   },
   "file_extension": ".py",
   "mimetype": "text/x-python",
   "name": "python",
   "nbconvert_exporter": "python",
   "pygments_lexer": "ipython3",
   "version": "3.8.3"
  }
 },
 "nbformat": 4,
 "nbformat_minor": 4
}
